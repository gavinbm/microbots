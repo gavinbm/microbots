{
 "cells": [
  {
   "cell_type": "markdown",
   "metadata": {},
   "source": [
    "# Microbot Image Detector\n",
    "\n",
    "Jupyter notebook designed to select an area of your screen and apply edge detection libraries to locate microbots in cell cultures"
   ]
  },
  {
   "cell_type": "code",
   "execution_count": 1,
   "metadata": {},
   "outputs": [],
   "source": [
    "import matplotlib.pyplot as plt\n",
    "from matplotlib.widgets import RectangleSelector\n",
    "import numpy as np\n",
    "import cv2\n",
    "import pyautogui\n",
    "import pims\n",
    "import trackpy as tp\n",
    "import ipywidgets as widgets\n",
    "from IPython.display import display\n",
    "from utils.tp_plots import annotate  # module of modified trackpy plotting functions\n",
    "from utils.vector_utils import *\n",
    "%matplotlib tk"
   ]
  },
  {
   "cell_type": "markdown",
   "metadata": {},
   "source": [
    "### Trackpy Parameters"
   ]
  },
  {
   "cell_type": "code",
   "execution_count": 11,
   "metadata": {},
   "outputs": [],
   "source": [
    "# declare default values for tracky parameters\n",
    "\n",
    "diameter = 13\n",
    "minmass = 1500\n",
    "maxsize = None\n",
    "threshold = 10\n",
    "noise_size = 1\n",
    "topn = None\n",
    "separation = diameter + 1\n",
    "smoothing_size = diameter"
   ]
  },
  {
   "cell_type": "code",
   "execution_count": 21,
   "metadata": {},
   "outputs": [
    {
     "data": {
      "application/vnd.jupyter.widget-view+json": {
       "model_id": "0b5bf616059b4b3aa8ef4fb215ee9e62",
       "version_major": 2,
       "version_minor": 0
      },
      "text/plain": [
       "IntSlider(value=11, description='Diameter', min=1, step=2)"
      ]
     },
     "metadata": {},
     "output_type": "display_data"
    },
    {
     "data": {
      "application/vnd.jupyter.widget-view+json": {
       "model_id": "1cfe13513b244197b9f533ae4d34c495",
       "version_major": 2,
       "version_minor": 0
      },
      "text/plain": [
       "IntSlider(value=1365, description='Minmass', max=3000)"
      ]
     },
     "metadata": {},
     "output_type": "display_data"
    },
    {
     "data": {
      "application/vnd.jupyter.widget-view+json": {
       "model_id": "69dc8c2ecd2f49429a5493ca100b44c9",
       "version_major": 2,
       "version_minor": 0
      },
      "text/plain": [
       "IntSlider(value=-1, description='Maxsize', max=3000, min=-1)"
      ]
     },
     "metadata": {},
     "output_type": "display_data"
    },
    {
     "data": {
      "application/vnd.jupyter.widget-view+json": {
       "model_id": "7a4d7c4d001e4cc0b363d82c370a5ae3",
       "version_major": 2,
       "version_minor": 0
      },
      "text/plain": [
       "IntSlider(value=10, description='Threshold', min=1)"
      ]
     },
     "metadata": {},
     "output_type": "display_data"
    },
    {
     "data": {
      "application/vnd.jupyter.widget-view+json": {
       "model_id": "8229345e5b5f4bb19b160396312e29e8",
       "version_major": 2,
       "version_minor": 0
      },
      "text/plain": [
       "FloatSlider(value=1.0, description='Noise Size', max=10.0)"
      ]
     },
     "metadata": {},
     "output_type": "display_data"
    },
    {
     "data": {
      "application/vnd.jupyter.widget-view+json": {
       "model_id": "2a28174926ab42a3bac6c12384379a77",
       "version_major": 2,
       "version_minor": 0
      },
      "text/plain": [
       "IntSlider(value=-1, description='Top N', max=50, min=-1)"
      ]
     },
     "metadata": {},
     "output_type": "display_data"
    },
    {
     "data": {
      "application/vnd.jupyter.widget-view+json": {
       "model_id": "15de54cb592644ecb60ea7a6e09a4848",
       "version_major": 2,
       "version_minor": 0
      },
      "text/plain": [
       "IntSlider(value=14, description='Separation', max=1000)"
      ]
     },
     "metadata": {},
     "output_type": "display_data"
    },
    {
     "data": {
      "application/vnd.jupyter.widget-view+json": {
       "model_id": "6a9cedc591d548c5969cb70a536ccbc1",
       "version_major": 2,
       "version_minor": 0
      },
      "text/plain": [
       "IntSlider(value=13, description='Smoothing Size', max=1000, min=1, step=2)"
      ]
     },
     "metadata": {},
     "output_type": "display_data"
    }
   ],
   "source": [
    "# Create accessible sliders for adjusting trackpy values\n",
    "\n",
    "diameter_wid = widgets.IntSlider(value=diameter, min=1, max=100, step=2, description=\"Diameter\")\n",
    "minmass_wid = widgets.IntSlider(value=minmass, min=0, max=3000, step=1, description=\"Minmass\")\n",
    "maxsize_wid = widgets.IntSlider(value=-1 if maxsize is None else maxsize, min=-1, max=3000, step=1, description=\"Maxsize\")\n",
    "threshold_wid = widgets.IntSlider(value=10, min=1, max=100, step=1, description=\"Threshold\")\n",
    "noise_size_wid = widgets.FloatSlider(value=1, min=0, max=10, step=0.1, description=\"Noise Size\")\n",
    "topn_wid = widgets.IntSlider(value=-1 if topn is None else topn, min=-1, max=50, step=1, description=\"Top N\")\n",
    "separation_wid = widgets.IntSlider(value=14, min=0, max=1000, step=1, description=\"Separation\")\n",
    "smoothing_size_wid = widgets.IntSlider(value=13, min=1, max=1000, step=2, description=\"Smoothing Size\")\n",
    "\n",
    "display(\n",
    "    diameter_wid,\n",
    "    minmass_wid,\n",
    "    maxsize_wid,\n",
    "    threshold_wid,\n",
    "    noise_size_wid,\n",
    "    topn_wid,\n",
    "    separation_wid,\n",
    "    smoothing_size_wid\n",
    ")"
   ]
  },
  {
   "cell_type": "markdown",
   "metadata": {},
   "source": [
    "### Screen Cropper"
   ]
  },
  {
   "cell_type": "code",
   "execution_count": 4,
   "metadata": {},
   "outputs": [
    {
     "name": "stderr",
     "output_type": "stream",
     "text": [
      "C:\\Users\\kerbu\\AppData\\Local\\Temp\\ipykernel_22316\\3754087155.py:28: MatplotlibDeprecationWarning: \n",
      "The 'drawtype' parameter of __init__() was deprecated in Matplotlib 3.5 and will be removed two minor releases later. If any parameter follows 'drawtype', they should be passed as keyword, not positionally.\n",
      "  rs = RectangleSelector(\n"
     ]
    }
   ],
   "source": [
    "screenshot = pyautogui.screenshot()\n",
    "\n",
    "fig, ax = plt.subplots()\n",
    "ax.imshow(screenshot)\n",
    "\n",
    "LEFT, TOP, WIDTH, HEIGHT = 0, 0, 0, 0\n",
    "\n",
    "def line_select_callback(eclick, erelease):\n",
    "    \"\"\"Callback function for RectangleSelector; allows you to select a section\n",
    "    of an initial screenshot and updates screen coordinates to be used by\n",
    "    pyautogui.screenshot()\"\"\"\n",
    "\n",
    "    # coordinates for pyautogui.screenshot()\n",
    "    global LEFT, TOP, WIDTH, HEIGHT\n",
    "    x1, y1 = eclick.xdata, eclick.ydata\n",
    "    x2, y2 = erelease.xdata, erelease.ydata\n",
    "\n",
    "    LEFT = min(x1, x2)\n",
    "    TOP = min(y1, y2)\n",
    "    WIDTH = np.abs(x1 - x2)\n",
    "    HEIGHT = np.abs(y1 - y2)\n",
    "\n",
    "    rect = plt.Rectangle(\n",
    "        (min(x1, x2), min(y1, y2)), np.abs(x1 - x2), np.abs(y1 - y2), fill=False\n",
    "    )\n",
    "\n",
    "\n",
    "rs = RectangleSelector(\n",
    "    ax,\n",
    "    line_select_callback,\n",
    "    drawtype=\"box\",\n",
    "    useblit=False,\n",
    "    button=[1],\n",
    "    minspanx=5,\n",
    "    minspany=5,\n",
    "    spancoords=\"pixels\",\n",
    "    interactive=True,\n",
    ")\n",
    "\n",
    "plt.show()\n"
   ]
  },
  {
   "cell_type": "markdown",
   "metadata": {},
   "source": [
    "### Microbot Locator"
   ]
  },
  {
   "cell_type": "code",
   "execution_count": 22,
   "metadata": {},
   "outputs": [],
   "source": [
    "params = [\n",
    "    \"diameter\",\n",
    "    \"minmass\",\n",
    "    \"maxsize\",\n",
    "    \"threshold\",\n",
    "    \"noise_size\",\n",
    "    \"topn\",\n",
    "    \"separation\",\n",
    "    \"smoothing_size\"\n",
    "]\n",
    "\n",
    "# Get each parameter variable and set it to the widget value, converting\n",
    "# negative vals to be a None parameter\n",
    "for i in params:\n",
    "    val = globals()[i + '_wid'].value\n",
    "    if val < 0:\n",
    "        val = None\n",
    "    globals()[i] = val\n",
    "\n",
    "# run trackpy location\n",
    "while True:\n",
    "    img = pyautogui.screenshot(region = (LEFT, TOP, WIDTH, HEIGHT))\n",
    "    frame = np.array(img)\n",
    "    gray = cv2.cvtColor(frame, cv2.COLOR_BGR2GRAY)\n",
    "    pim_gray = pims.frame.Frame(gray)   # turn grayscale into PIMS Frame object\n",
    "\n",
    "    f = tp.locate(\n",
    "        pim_gray,\n",
    "        diameter=diameter,\n",
    "        minmass=minmass,\n",
    "        maxsize=maxsize,\n",
    "        threshold=threshold,\n",
    "        noise_size=noise_size,\n",
    "        topn=topn,\n",
    "        separation=separation,\n",
    "        smoothing_size=smoothing_size,\n",
    "        invert=True\n",
    "    )    # get feature location DataFrame\n",
    "    fig = annotate(f, pim_gray).figure  # Get plt figure generated by trackpy's annotate\n",
    "\n",
    "    # remove margins and axes from figure to only get annotated figure image\n",
    "    ax = fig.gca()\n",
    "    ax.axis('off')\n",
    "    fig.tight_layout(pad=0)\n",
    "    ax.margins(0)\n",
    "\n",
    "    # Draw image onto plt canvas and convert into a numpy ndarray\n",
    "    fig.canvas.draw()\n",
    "    image_from_plot = np.frombuffer(fig.canvas.tostring_rgb(), dtype=np.uint8)\n",
    "    image_from_plot = image_from_plot.reshape(fig.canvas.get_width_height()[::-1] + (3,))\n",
    "\n",
    "    cv2.imshow('image', image_from_plot) # show annotated image\n",
    "    fig.clear(True) # clear canvas for next preprocessed image\n",
    "\n",
    "    # press q to quit program\n",
    "    if cv2.waitKey(1) == ord(\"q\"):\n",
    "        break"
   ]
  },
  {
   "cell_type": "code",
   "execution_count": null,
   "metadata": {},
   "outputs": [],
   "source": []
  }
 ],
 "metadata": {
  "interpreter": {
   "hash": "ba69c8d24b60b7f281702eab46d48883aa831714f3abe8bd102fd21e7e45d1df"
  },
  "kernelspec": {
   "display_name": "Python 3.10.2 ('microbots')",
   "language": "python",
   "name": "python3"
  },
  "language_info": {
   "codemirror_mode": {
    "name": "ipython",
    "version": 3
   },
   "file_extension": ".py",
   "mimetype": "text/x-python",
   "name": "python",
   "nbconvert_exporter": "python",
   "pygments_lexer": "ipython3",
   "version": "3.9.7"
  },
  "orig_nbformat": 4
 },
 "nbformat": 4,
 "nbformat_minor": 2
}
