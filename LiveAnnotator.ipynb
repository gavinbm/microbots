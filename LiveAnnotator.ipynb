{
 "cells": [
  {
   "cell_type": "markdown",
   "metadata": {},
   "source": [
    "# Microbot Live Annotator\n",
    "\n",
    "Jupyter notebook designed to select an area of your screen and apply edge\n",
    "detection libraries to locate microbots in cell cultures. Please refer to\n",
    "`README.md` for additional help in running this notebook.\n",
    "\n",
    "You only need to run Step 1 and 2 cells once to import necessary modules and\n",
    "initialize parameter adjustment for trackpy.locate() (used to apply edge\n",
    "detection for the microbots).\n",
    "\n",
    "Steps 3 and 4 can be re-run as many times as necessary to crop your screen and\n",
    "start microbot detection, respectively."
   ]
  },
  {
   "cell_type": "code",
   "execution_count": null,
   "metadata": {},
   "outputs": [],
   "source": [
    "# (STEP 1) RUN TO IMPORT NECESSARY MODULES\n",
    "# enable ipympl backend for interactive matplotlib graphs\n",
    "%matplotlib widget\n",
    "\n",
    "from utils.crop_utils import *\n",
    "from utils.csv_utils import *\n",
    "import datetime"
   ]
  },
  {
   "cell_type": "markdown",
   "metadata": {},
   "source": [
    "### Trackpy Parameters"
   ]
  },
  {
   "cell_type": "code",
   "execution_count": null,
   "metadata": {},
   "outputs": [],
   "source": [
    "# (STEP 2a) RUN TO DECLARE DEFAULT TRACKPY LOCATE PARAMETERS\n",
    "\n",
    "params = {\n",
    "    \"diameter\": 13,\n",
    "    \"minmass\" : 1500,\n",
    "    \"maxsize\" : None,\n",
    "    \"threshold\" : 10,\n",
    "    \"noise_size\" : 1,\n",
    "    \"topn\" : None,\n",
    "    \"separation\" : 14,\n",
    "    \"smoothing_size\" : 13,\n",
    "    \"percentile\": 0\n",
    "}"
   ]
  },
  {
   "cell_type": "code",
   "execution_count": null,
   "metadata": {},
   "outputs": [],
   "source": [
    "# (STEP 2b) RUN TO INITIALIZE TRACKPY PARAMTER ADJUSTMENT SLIDERS\n",
    "# Create accessible sliders for adjusting trackpy values\n",
    "\n",
    "diameter_wid = widgets.IntSlider(value=params[\"diameter\"], min=1, max=100, step=2, description=\"Diameter\")\n",
    "minmass_wid = widgets.IntSlider(value=params[\"minmass\"], min=0, max=3000, step=1, description=\"Minmass\")\n",
    "maxsize_wid = widgets.IntSlider(value=-1 if params[\"maxsize\"] is None else params[\"maxsize\"], min=-1, max=3000, step=1, description=\"Maxsize\")\n",
    "threshold_wid = widgets.IntSlider(value=params[\"threshold\"], min=1, max=100, step=1, description=\"Threshold\")\n",
    "noise_size_wid = widgets.FloatSlider(value=1, min=0, max=10, step=0.1, description=\"Noise Size\")\n",
    "topn_wid = widgets.IntSlider(value=-1 if params[\"topn\"] is None else params[\"topn\"], min=-1, max=50, step=1, description=\"Top N\")\n",
    "separation_wid = widgets.IntSlider(value=14, min=0, max=1000, step=1, description=\"Separation\")\n",
    "smoothing_size_wid = widgets.IntSlider(value=params[\"smoothing_size\"], min=1, max=1000, step=2, description=\"Smoothing Size\")\n",
    "percentile_wid = widgets.IntSlider(value=params[\"percentile\"], min=0, max=100, step=1, description=\"Percentile\")\n",
    "\n",
    "# display widgets\n",
    "display(\n",
    "    diameter_wid,\n",
    "    minmass_wid,\n",
    "    maxsize_wid,\n",
    "    threshold_wid,\n",
    "    noise_size_wid,\n",
    "    topn_wid,\n",
    "    separation_wid,\n",
    "    smoothing_size_wid,\n",
    "    percentile_wid\n",
    ")"
   ]
  },
  {
   "cell_type": "markdown",
   "metadata": {},
   "source": [
    "### Screen Cropper"
   ]
  },
  {
   "cell_type": "code",
   "execution_count": null,
   "metadata": {},
   "outputs": [],
   "source": [
    "# (STEP 3) RUN TO SELECT A PORTION OF YOUR SCREEN FOR CROPPING\n",
    "# take initial screenshot of screen\n",
    "screenshot = pyautogui.screenshot()\n",
    "\n",
    "# create ScreenshotParams class to save crop selection\n",
    "coords = ScreenshotCoords()\n",
    "\n",
    "val1, val2 = None, None\n",
    "\n",
    "fig, ax = plt.subplots()\n",
    "ax.imshow(screenshot)\n",
    "\n",
    "# RectangleSelector plt widget for creating rectangles on a plot\n",
    "rs = RectangleSelector(\n",
    "    ax,\n",
    "    lambda eclick, erelease: update_crop_selection(eclick, erelease, coords),\n",
    "    drawtype=\"box\",\n",
    "    useblit=False,\n",
    "    button=[1],\n",
    "    minspanx=5,\n",
    "    minspany=5,\n",
    "    spancoords=\"pixels\",\n",
    "    interactive=True,\n",
    ")"
   ]
  },
  {
   "cell_type": "markdown",
   "metadata": {},
   "source": [
    "### Microbot Locator"
   ]
  },
  {
   "cell_type": "code",
   "execution_count": null,
   "metadata": {},
   "outputs": [],
   "source": [
    "# (STEP 4a) DEFINE OUTPUT SETTINGS\n",
    "record_widget = widgets.RadioButtons(\n",
    "    options=['Yes', 'No'],\n",
    "    value='Yes', # Defaults to \"Yes\"\n",
    "    description='Record Located Microbot Positions?',\n",
    "    disabled=False\n",
    ")\n",
    "\n",
    "display(record_widget)"
   ]
  },
  {
   "cell_type": "code",
   "execution_count": null,
   "metadata": {},
   "outputs": [],
   "source": [
    "# (STEP 4b) RUN TO START MICROBOT DETECTION\n",
    "# Close previous cropper plot to not interfere with cv2.imshow\n",
    "plt.close('all')\n",
    "\n",
    "# Get each parameter variable and set it to the widget value, converting\n",
    "# negative vals to be a None parameter\n",
    "for param in params.keys():\n",
    "    val = globals()[param + '_wid'].value\n",
    "    if val < 0:\n",
    "        val = None\n",
    "    params[param] = val\n",
    "\n",
    "dfs = [] if record_widget.value == \"Yes\" else None\n",
    "\n",
    "# continuously take screenshots and annotate them with trackpy, displaying w/ cv2\n",
    "track_screenshots(coords, params, dfs)\n",
    "\n",
    "# close all windows\n",
    "clear_windows()"
   ]
  },
  {
   "cell_type": "code",
   "execution_count": null,
   "metadata": {},
   "outputs": [],
   "source": [
    "# (STEP 6) SAVE TRACKPY POSITION TO CSV\n",
    "csv_name = '{date:%Y-%m-%d_%H:%M:%S}.csv'.format( date=datetime.datetime.now() )\n",
    "csv_name = csv_name.replace(':', \"-\")\n",
    "save_locate_csv(dfs=dfs, csv_name=\"./output/\" + csv_name, search_range=10, memory=10)"
   ]
  },
  {
   "cell_type": "code",
   "execution_count": null,
   "metadata": {},
   "outputs": [],
   "source": []
  }
 ],
 "metadata": {
  "interpreter": {
   "hash": "244a628887de222df5322b402ef7d339464e43fbbe4024c268ec7b65312e1dc7"
  },
  "kernelspec": {
   "display_name": "Python 3.9.7 ('microbots-test')",
   "language": "python",
   "name": "python3"
  },
  "language_info": {
   "codemirror_mode": {
    "name": "ipython",
    "version": 3
   },
   "file_extension": ".py",
   "mimetype": "text/x-python",
   "name": "python",
   "nbconvert_exporter": "python",
   "pygments_lexer": "ipython3",
   "version": "3.9.7"
  }
 },
 "nbformat": 4,
 "nbformat_minor": 2
}
